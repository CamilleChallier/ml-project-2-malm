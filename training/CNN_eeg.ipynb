{
 "cells": [
  {
   "cell_type": "code",
   "execution_count": 1,
   "metadata": {},
   "outputs": [
    {
     "name": "stderr",
     "output_type": "stream",
     "text": [
      "c:\\Users\\camil\\miniconda3\\envs\\malm\\lib\\site-packages\\scipy\\__init__.py:146: UserWarning: A NumPy version >=1.17.3 and <1.25.0 is required for this version of SciPy (detected version 1.26.2\n",
      "  warnings.warn(f\"A NumPy version >={np_minversion} and <{np_maxversion}\"\n"
     ]
    }
   ],
   "source": [
    "import numpy as np\n",
    "from sleep_eeg.pre_processing.mq import *\n",
    "from sleep_eeg.utils import *\n",
    "import matplotlib.pyplot as plt\n",
    "import torch\n",
    "import torch.nn as nn\n",
    "from sleep_eeg.models.utime import Utime\n",
    "from sklearn.preprocessing import StandardScaler\n",
    "from skorch import NeuralNetClassifier\n",
    "from sklearn.model_selection import cross_validate, StratifiedKFold\n",
    "import random"
   ]
  },
  {
   "cell_type": "code",
   "execution_count": 2,
   "metadata": {},
   "outputs": [],
   "source": [
    "import pickle\n",
    "\n",
    "with open(\"..\\data\\eeg\\dict_features_1920_108.pkl\", \"rb\") as f:\n",
    "    dict_features_108 = pickle.load(f)"
   ]
  },
  {
   "cell_type": "code",
   "execution_count": 3,
   "metadata": {},
   "outputs": [
    {
     "data": {
      "text/plain": [
       "dict_keys(['B01_N3', 'B1_N4', 'B02_N3', 'B02_N4', 'B02_N5', 'B03_N3', 'B03_N4', 'B03_N5', 'B04_N3', 'B04_N5', 'B06_N3', 'B06_N5', 'B07_N3', 'B07_N4', 'B07_N5', 'B08_N3', 'B08_N4', 'B08_N5', 'B09_N3', 'B09_N4', 'B09_N5', 'B10_N3', 'B10_N4', 'B10_N5', 'B11_N3', 'B11_N4', 'B11_N5', 'B12_N3', 'B12_N4', 'B12_N5', 'B13_N3', 'B13_N4', 'B13_N5', 'B14_N3', 'B14_N4', 'B14_N5', 'B15_N3', 'B15_N4', 'B15_N5', 'B17_N3', 'B17_N4', 'B18_N4', 'B18_N5', 'B19_N3', 'B19_N4', 'B19_N5', 'B20_N3', 'B20_N4', 'B20_N5', 'B21_N3', 'B24_N5', 'A1_N3', 'A1_N4', 'A1_N5', 'A10_N3', 'A10_N4', 'A10_N5', 'A11_N3', 'A11_N4', 'A11_N5', 'A12_N5', 'A13_N4', 'A13_N5', 'A16_N5', 'A16_N3', 'A18_N3', 'A18_N4', 'A18_N5', 'A19_N3', 'A19_N4', 'A19_N5', 'A2_N3', 'A2_N4', 'A2_N5', 'A21_N3', 'A21_N4', 'A21_N5', 'A22_N3', 'A22_N4', 'A22_N5', 'A23_N3', 'A23_N4', 'A23_N5', 'A24_N3', 'A24_N4', 'A24_N5', 'A25_N3', 'A25_N4', 'A25_N5', 'A28_N3', 'A28_N4', 'A28_N5', 'A29_N3', 'A29_N4', 'A29_N5', 'A30_N3', 'A30_N4', 'A30_N5', 'A4_N3', 'A4_N4', 'A4_N5', 'A6_N3', 'A6_N4', 'A6_N5', 'A8_N4', 'A9_N3', 'A9_N4', 'A9_N5'])"
      ]
     },
     "execution_count": 3,
     "metadata": {},
     "output_type": "execute_result"
    }
   ],
   "source": [
    "dict_features_108.keys()"
   ]
  },
  {
   "cell_type": "code",
   "execution_count": 4,
   "metadata": {},
   "outputs": [
    {
     "name": "stdout",
     "output_type": "stream",
     "text": [
      "B01_N3: np.isnan(val).sum()=0, val.shape=(1920, 42, 26)\n",
      "B1_N4: np.isnan(val).sum()=0, val.shape=(1920, 42, 26)\n",
      "B02_N3: np.isnan(val).sum()=0, val.shape=(1920, 42, 26)\n",
      "B02_N4: np.isnan(val).sum()=0, val.shape=(1920, 42, 26)\n",
      "B02_N5: np.isnan(val).sum()=0, val.shape=(1920, 42, 26)\n",
      "B03_N3: np.isnan(val).sum()=0, val.shape=(1920, 42, 26)\n",
      "B03_N4: np.isnan(val).sum()=0, val.shape=(1920, 42, 26)\n",
      "B03_N5: np.isnan(val).sum()=0, val.shape=(1920, 42, 26)\n",
      "B04_N3: np.isnan(val).sum()=0, val.shape=(1920, 42, 26)\n",
      "B04_N5: np.isnan(val).sum()=0, val.shape=(1920, 42, 26)\n",
      "B06_N3: np.isnan(val).sum()=0, val.shape=(1920, 42, 26)\n",
      "B06_N5: np.isnan(val).sum()=0, val.shape=(1920, 42, 26)\n",
      "B07_N3: np.isnan(val).sum()=0, val.shape=(1920, 42, 26)\n",
      "B07_N4: np.isnan(val).sum()=0, val.shape=(1920, 42, 26)\n",
      "B07_N5: np.isnan(val).sum()=0, val.shape=(1920, 42, 26)\n",
      "B08_N3: np.isnan(val).sum()=0, val.shape=(1920, 42, 26)\n",
      "B08_N4: np.isnan(val).sum()=0, val.shape=(1920, 42, 26)\n",
      "B08_N5: np.isnan(val).sum()=0, val.shape=(1920, 42, 26)\n",
      "B09_N3: np.isnan(val).sum()=0, val.shape=(1920, 42, 26)\n",
      "B09_N4: np.isnan(val).sum()=0, val.shape=(1920, 42, 26)\n",
      "B09_N5: np.isnan(val).sum()=0, val.shape=(1920, 42, 26)\n",
      "B10_N3: np.isnan(val).sum()=0, val.shape=(1920, 42, 26)\n",
      "B10_N4: np.isnan(val).sum()=0, val.shape=(1920, 42, 26)\n",
      "B10_N5: np.isnan(val).sum()=0, val.shape=(1920, 42, 26)\n",
      "B11_N3: np.isnan(val).sum()=0, val.shape=(1920, 42, 26)\n",
      "B11_N4: np.isnan(val).sum()=0, val.shape=(1920, 42, 26)\n",
      "B11_N5: np.isnan(val).sum()=0, val.shape=(1920, 42, 26)\n",
      "B12_N3: np.isnan(val).sum()=0, val.shape=(1920, 42, 26)\n",
      "B12_N4: np.isnan(val).sum()=0, val.shape=(1920, 42, 26)\n",
      "B12_N5: np.isnan(val).sum()=0, val.shape=(1920, 42, 26)\n",
      "B13_N3: np.isnan(val).sum()=0, val.shape=(1920, 42, 26)\n",
      "B13_N4: np.isnan(val).sum()=0, val.shape=(1920, 42, 26)\n",
      "B13_N5: np.isnan(val).sum()=0, val.shape=(1920, 42, 26)\n",
      "B14_N3: np.isnan(val).sum()=0, val.shape=(1920, 42, 26)\n",
      "B14_N4: np.isnan(val).sum()=0, val.shape=(1920, 42, 26)\n",
      "B14_N5: np.isnan(val).sum()=0, val.shape=(1920, 42, 26)\n",
      "B15_N3: np.isnan(val).sum()=0, val.shape=(1920, 42, 26)\n",
      "B15_N4: np.isnan(val).sum()=0, val.shape=(1920, 42, 26)\n",
      "B15_N5: np.isnan(val).sum()=0, val.shape=(1920, 42, 26)\n",
      "B17_N3: np.isnan(val).sum()=0, val.shape=(1920, 42, 26)\n",
      "B17_N4: np.isnan(val).sum()=0, val.shape=(1920, 42, 26)\n",
      "B18_N4: np.isnan(val).sum()=0, val.shape=(1920, 42, 26)\n",
      "B18_N5: np.isnan(val).sum()=0, val.shape=(1920, 42, 26)\n",
      "B19_N3: np.isnan(val).sum()=0, val.shape=(1920, 42, 26)\n",
      "B19_N4: np.isnan(val).sum()=0, val.shape=(1920, 42, 26)\n",
      "B19_N5: np.isnan(val).sum()=0, val.shape=(1920, 42, 26)\n",
      "B20_N3: np.isnan(val).sum()=0, val.shape=(1920, 42, 26)\n",
      "B20_N4: np.isnan(val).sum()=0, val.shape=(1920, 42, 26)\n",
      "B20_N5: np.isnan(val).sum()=0, val.shape=(1920, 42, 26)\n",
      "B21_N3: np.isnan(val).sum()=0, val.shape=(1920, 42, 26)\n",
      "B24_N5: np.isnan(val).sum()=0, val.shape=(1920, 42, 26)\n",
      "A1_N3: np.isnan(val).sum()=0, val.shape=(1920, 42, 26)\n",
      "A1_N4: np.isnan(val).sum()=0, val.shape=(1920, 42, 26)\n",
      "A1_N5: np.isnan(val).sum()=0, val.shape=(1920, 42, 26)\n",
      "A10_N3: np.isnan(val).sum()=0, val.shape=(1920, 42, 26)\n",
      "A10_N4: np.isnan(val).sum()=0, val.shape=(1920, 42, 26)\n",
      "A10_N5: np.isnan(val).sum()=0, val.shape=(1920, 42, 26)\n",
      "A11_N3: np.isnan(val).sum()=0, val.shape=(1920, 42, 26)\n",
      "A11_N4: np.isnan(val).sum()=0, val.shape=(1920, 42, 26)\n",
      "A11_N5: np.isnan(val).sum()=0, val.shape=(1920, 42, 26)\n",
      "A12_N5: np.isnan(val).sum()=0, val.shape=(1920, 42, 26)\n",
      "A13_N4: np.isnan(val).sum()=0, val.shape=(1920, 42, 26)\n",
      "A13_N5: np.isnan(val).sum()=0, val.shape=(1920, 42, 26)\n",
      "A16_N5: np.isnan(val).sum()=0, val.shape=(1920, 42, 26)\n",
      "A16_N3: np.isnan(val).sum()=0, val.shape=(1920, 42, 26)\n",
      "A18_N3: np.isnan(val).sum()=0, val.shape=(1920, 42, 26)\n",
      "A18_N4: np.isnan(val).sum()=0, val.shape=(1920, 42, 26)\n",
      "A18_N5: np.isnan(val).sum()=0, val.shape=(1920, 42, 26)\n",
      "A19_N3: np.isnan(val).sum()=0, val.shape=(1920, 42, 26)\n",
      "A19_N4: np.isnan(val).sum()=0, val.shape=(1920, 42, 26)\n",
      "A19_N5: np.isnan(val).sum()=0, val.shape=(1920, 42, 26)\n",
      "A2_N3: np.isnan(val).sum()=0, val.shape=(1920, 42, 26)\n",
      "A2_N4: np.isnan(val).sum()=0, val.shape=(1920, 42, 26)\n",
      "A2_N5: np.isnan(val).sum()=0, val.shape=(1920, 42, 26)\n",
      "A21_N3: np.isnan(val).sum()=0, val.shape=(1920, 42, 26)\n",
      "A21_N4: np.isnan(val).sum()=0, val.shape=(1920, 42, 26)\n",
      "A21_N5: np.isnan(val).sum()=0, val.shape=(1920, 42, 26)\n",
      "A22_N3: np.isnan(val).sum()=0, val.shape=(1920, 42, 26)\n",
      "A22_N4: np.isnan(val).sum()=0, val.shape=(1920, 42, 26)\n",
      "A22_N5: np.isnan(val).sum()=0, val.shape=(1920, 42, 26)\n",
      "A23_N3: np.isnan(val).sum()=0, val.shape=(1920, 42, 26)\n",
      "A23_N4: np.isnan(val).sum()=0, val.shape=(1920, 42, 26)\n",
      "A23_N5: np.isnan(val).sum()=0, val.shape=(1920, 42, 26)\n",
      "A24_N3: np.isnan(val).sum()=0, val.shape=(1920, 42, 26)\n",
      "A24_N4: np.isnan(val).sum()=0, val.shape=(1920, 42, 26)\n",
      "A24_N5: np.isnan(val).sum()=0, val.shape=(1920, 42, 26)\n",
      "A25_N3: np.isnan(val).sum()=0, val.shape=(1920, 42, 26)\n",
      "A25_N4: np.isnan(val).sum()=0, val.shape=(1920, 42, 26)\n",
      "A25_N5: np.isnan(val).sum()=0, val.shape=(1920, 42, 26)\n",
      "A28_N3: np.isnan(val).sum()=0, val.shape=(1920, 42, 26)\n",
      "A28_N4: np.isnan(val).sum()=0, val.shape=(1920, 42, 26)\n",
      "A28_N5: np.isnan(val).sum()=0, val.shape=(1920, 42, 26)\n",
      "A29_N3: np.isnan(val).sum()=0, val.shape=(1920, 42, 26)\n",
      "A29_N4: np.isnan(val).sum()=0, val.shape=(1920, 42, 26)\n",
      "A29_N5: np.isnan(val).sum()=0, val.shape=(1920, 42, 26)\n",
      "A30_N3: np.isnan(val).sum()=0, val.shape=(1920, 42, 26)\n",
      "A30_N4: np.isnan(val).sum()=0, val.shape=(1920, 42, 26)\n",
      "A30_N5: np.isnan(val).sum()=0, val.shape=(1920, 42, 26)\n",
      "A4_N3: np.isnan(val).sum()=0, val.shape=(1920, 42, 26)\n",
      "A4_N4: np.isnan(val).sum()=0, val.shape=(1920, 42, 26)\n",
      "A4_N5: np.isnan(val).sum()=0, val.shape=(1920, 42, 26)\n",
      "A6_N3: np.isnan(val).sum()=0, val.shape=(1920, 42, 26)\n",
      "A6_N4: np.isnan(val).sum()=0, val.shape=(1920, 42, 26)\n",
      "A6_N5: np.isnan(val).sum()=0, val.shape=(1920, 42, 26)\n",
      "A8_N4: np.isnan(val).sum()=0, val.shape=(1920, 42, 26)\n",
      "A9_N3: np.isnan(val).sum()=0, val.shape=(1920, 42, 26)\n",
      "A9_N4: np.isnan(val).sum()=0, val.shape=(1920, 42, 26)\n",
      "A9_N5: np.isnan(val).sum()=0, val.shape=(1920, 42, 26)\n"
     ]
    }
   ],
   "source": [
    "for key, val in dict_features_108.items():\n",
    "    print(f\"{key}: {np.isnan(val).sum()=}, {val.shape=}\")"
   ]
  },
  {
   "cell_type": "code",
   "execution_count": 5,
   "metadata": {},
   "outputs": [],
   "source": [
    "data = np.array([val for val in dict_features_108.values()])"
   ]
  },
  {
   "cell_type": "code",
   "execution_count": 6,
   "metadata": {},
   "outputs": [
    {
     "data": {
      "text/plain": [
       "(108, 1920, 42, 26)"
      ]
     },
     "execution_count": 6,
     "metadata": {},
     "output_type": "execute_result"
    }
   ],
   "source": [
    "data.shape"
   ]
  },
  {
   "cell_type": "markdown",
   "metadata": {},
   "source": [
    "# Create 3D data"
   ]
  },
  {
   "cell_type": "code",
   "execution_count": 7,
   "metadata": {},
   "outputs": [
    {
     "data": {
      "text/plain": [
       "108"
      ]
     },
     "execution_count": 7,
     "metadata": {},
     "output_type": "execute_result"
    }
   ],
   "source": [
    "def rename_nights(old_night_ids: list[str]):\n",
    "    night_ids = []\n",
    "    for night_fname in old_night_ids:\n",
    "        night_id = night_fname.split(\".\")[0]\n",
    "        # print(night_id[1:3])\n",
    "        if \"_\" in night_id[1:3]:\n",
    "            new_night_id = night_id[0] + \"0\" + night_id[1:]\n",
    "        else:\n",
    "            new_night_id = night_id\n",
    "        night_ids.append(new_night_id)\n",
    "    return night_ids\n",
    "\n",
    "\n",
    "night_names = rename_nights(dict_features_108.keys())\n",
    "len(night_names)"
   ]
  },
  {
   "cell_type": "code",
   "execution_count": 8,
   "metadata": {},
   "outputs": [
    {
     "data": {
      "text/html": [
       "<div>\n",
       "<style scoped>\n",
       "    .dataframe tbody tr th:only-of-type {\n",
       "        vertical-align: middle;\n",
       "    }\n",
       "\n",
       "    .dataframe tbody tr th {\n",
       "        vertical-align: top;\n",
       "    }\n",
       "\n",
       "    .dataframe thead th {\n",
       "        text-align: right;\n",
       "    }\n",
       "</style>\n",
       "<table border=\"1\" class=\"dataframe\">\n",
       "  <thead>\n",
       "    <tr style=\"text-align: right;\">\n",
       "      <th></th>\n",
       "      <th>mq_4_calm_sleep</th>\n",
       "      <th>mq_5_superficial_sleep</th>\n",
       "      <th>mq_6_recovery</th>\n",
       "      <th>mq_7_bad_mood</th>\n",
       "      <th>mq_8_energy</th>\n",
       "      <th>mq_9_tense</th>\n",
       "      <th>mq_10_unconcentrated</th>\n",
       "    </tr>\n",
       "  </thead>\n",
       "  <tbody>\n",
       "    <tr>\n",
       "      <th>B01_N3</th>\n",
       "      <td>0</td>\n",
       "      <td>0</td>\n",
       "      <td>0</td>\n",
       "      <td>3</td>\n",
       "      <td>0</td>\n",
       "      <td>3</td>\n",
       "      <td>3</td>\n",
       "    </tr>\n",
       "    <tr>\n",
       "      <th>B02_N3</th>\n",
       "      <td>3</td>\n",
       "      <td>0</td>\n",
       "      <td>0</td>\n",
       "      <td>2</td>\n",
       "      <td>1</td>\n",
       "      <td>1</td>\n",
       "      <td>3</td>\n",
       "    </tr>\n",
       "    <tr>\n",
       "      <th>B02_N5</th>\n",
       "      <td>0</td>\n",
       "      <td>3</td>\n",
       "      <td>2</td>\n",
       "      <td>3</td>\n",
       "      <td>1</td>\n",
       "      <td>2</td>\n",
       "      <td>1</td>\n",
       "    </tr>\n",
       "    <tr>\n",
       "      <th>B03_N3</th>\n",
       "      <td>3</td>\n",
       "      <td>0</td>\n",
       "      <td>2</td>\n",
       "      <td>0</td>\n",
       "      <td>3</td>\n",
       "      <td>0</td>\n",
       "      <td>0</td>\n",
       "    </tr>\n",
       "    <tr>\n",
       "      <th>B03_N4</th>\n",
       "      <td>3</td>\n",
       "      <td>0</td>\n",
       "      <td>3</td>\n",
       "      <td>0</td>\n",
       "      <td>3</td>\n",
       "      <td>0</td>\n",
       "      <td>0</td>\n",
       "    </tr>\n",
       "    <tr>\n",
       "      <th>...</th>\n",
       "      <td>...</td>\n",
       "      <td>...</td>\n",
       "      <td>...</td>\n",
       "      <td>...</td>\n",
       "      <td>...</td>\n",
       "      <td>...</td>\n",
       "      <td>...</td>\n",
       "    </tr>\n",
       "    <tr>\n",
       "      <th>A06_N5</th>\n",
       "      <td>0</td>\n",
       "      <td>3</td>\n",
       "      <td>1</td>\n",
       "      <td>3</td>\n",
       "      <td>0</td>\n",
       "      <td>2</td>\n",
       "      <td>3</td>\n",
       "    </tr>\n",
       "    <tr>\n",
       "      <th>A08_N4</th>\n",
       "      <td>2</td>\n",
       "      <td>1</td>\n",
       "      <td>3</td>\n",
       "      <td>0</td>\n",
       "      <td>2</td>\n",
       "      <td>2</td>\n",
       "      <td>1</td>\n",
       "    </tr>\n",
       "    <tr>\n",
       "      <th>A09_N3</th>\n",
       "      <td>3</td>\n",
       "      <td>1</td>\n",
       "      <td>0</td>\n",
       "      <td>3</td>\n",
       "      <td>1</td>\n",
       "      <td>1</td>\n",
       "      <td>3</td>\n",
       "    </tr>\n",
       "    <tr>\n",
       "      <th>A09_N4</th>\n",
       "      <td>2</td>\n",
       "      <td>2</td>\n",
       "      <td>3</td>\n",
       "      <td>1</td>\n",
       "      <td>2</td>\n",
       "      <td>1</td>\n",
       "      <td>0</td>\n",
       "    </tr>\n",
       "    <tr>\n",
       "      <th>A09_N5</th>\n",
       "      <td>2</td>\n",
       "      <td>0</td>\n",
       "      <td>3</td>\n",
       "      <td>1</td>\n",
       "      <td>1</td>\n",
       "      <td>3</td>\n",
       "      <td>0</td>\n",
       "    </tr>\n",
       "  </tbody>\n",
       "</table>\n",
       "<p>106 rows × 7 columns</p>\n",
       "</div>"
      ],
      "text/plain": [
       "        mq_4_calm_sleep  mq_5_superficial_sleep  mq_6_recovery  mq_7_bad_mood  \\\n",
       "B01_N3                0                       0              0              3   \n",
       "B02_N3                3                       0              0              2   \n",
       "B02_N5                0                       3              2              3   \n",
       "B03_N3                3                       0              2              0   \n",
       "B03_N4                3                       0              3              0   \n",
       "...                 ...                     ...            ...            ...   \n",
       "A06_N5                0                       3              1              3   \n",
       "A08_N4                2                       1              3              0   \n",
       "A09_N3                3                       1              0              3   \n",
       "A09_N4                2                       2              3              1   \n",
       "A09_N5                2                       0              3              1   \n",
       "\n",
       "        mq_8_energy  mq_9_tense  mq_10_unconcentrated  \n",
       "B01_N3            0           3                     3  \n",
       "B02_N3            1           1                     3  \n",
       "B02_N5            1           2                     1  \n",
       "B03_N3            3           0                     0  \n",
       "B03_N4            3           0                     0  \n",
       "...             ...         ...                   ...  \n",
       "A06_N5            0           2                     3  \n",
       "A08_N4            2           2                     1  \n",
       "A09_N3            1           1                     3  \n",
       "A09_N4            2           1                     0  \n",
       "A09_N5            1           3                     0  \n",
       "\n",
       "[106 rows x 7 columns]"
      ]
     },
     "execution_count": 8,
     "metadata": {},
     "output_type": "execute_result"
    }
   ],
   "source": [
    "mq = load_mq_file()\n",
    "mq = make_classification(mq)\n",
    "mq = mq.drop(\n",
    "    columns=[\n",
    "        \"Group\",\n",
    "        \"Participant\",\n",
    "        \"Night\",\n",
    "        \"Drug\",\n",
    "        \"mq_1_Sleeplatency\",\n",
    "        \"mq_2_times_awake\",\n",
    "        \"mq_3_time_lay_awake\",\n",
    "    ]\n",
    ")\n",
    "mq = mq.drop(mq.index.difference(night_names))\n",
    "mq = mq.reindex(pd.Index(night_names).intersection(mq.index))\n",
    "mq"
   ]
  },
  {
   "cell_type": "code",
   "execution_count": 9,
   "metadata": {},
   "outputs": [
    {
     "data": {
      "text/plain": [
       "Index(['B01_N4', 'B02_N4'], dtype='object')"
      ]
     },
     "execution_count": 9,
     "metadata": {},
     "output_type": "execute_result"
    }
   ],
   "source": [
    "pd.Index(night_names).difference(mq.index)"
   ]
  },
  {
   "cell_type": "code",
   "execution_count": 10,
   "metadata": {},
   "outputs": [
    {
     "data": {
      "text/plain": [
       "(1, 3)"
      ]
     },
     "execution_count": 10,
     "metadata": {},
     "output_type": "execute_result"
    }
   ],
   "source": [
    "list(dict_features_108.keys()).index(\"B1_N4\"), list(dict_features_108.keys()).index(\n",
    "    \"B02_N4\"\n",
    ")"
   ]
  },
  {
   "cell_type": "code",
   "execution_count": 11,
   "metadata": {},
   "outputs": [
    {
     "data": {
      "text/plain": [
       "(106, 1920, 42, 26)"
      ]
     },
     "execution_count": 11,
     "metadata": {},
     "output_type": "execute_result"
    }
   ],
   "source": [
    "compatible_data = np.delete(data, (58, 85), axis=0)\n",
    "compatible_data.shape"
   ]
  },
  {
   "cell_type": "code",
   "execution_count": 12,
   "metadata": {},
   "outputs": [],
   "source": [
    "del data"
   ]
  },
  {
   "cell_type": "markdown",
   "metadata": {},
   "source": [
    "# Create compatible 2D data"
   ]
  },
  {
   "cell_type": "code",
   "execution_count": 32,
   "metadata": {},
   "outputs": [
    {
     "data": {
      "text/plain": [
       "(106, 1920, 1092)"
      ]
     },
     "execution_count": 32,
     "metadata": {},
     "output_type": "execute_result"
    }
   ],
   "source": [
    "data2D = compatible_data.reshape((*compatible_data.shape[:-2], -1))\n",
    "data2D.shape"
   ]
  },
  {
   "cell_type": "code",
   "execution_count": 17,
   "metadata": {},
   "outputs": [],
   "source": [
    "del compatible_data"
   ]
  },
  {
   "cell_type": "code",
   "execution_count": 33,
   "metadata": {},
   "outputs": [
    {
     "data": {
      "text/plain": [
       "(106, 1920, 1092)"
      ]
     },
     "execution_count": 33,
     "metadata": {},
     "output_type": "execute_result"
    }
   ],
   "source": [
    "from sklearn.preprocessing import StandardScaler\n",
    "\n",
    "std_data2D = (\n",
    "    StandardScaler().fit_transform(data2D.reshape((106, -1))).reshape(data2D.shape)\n",
    ")\n",
    "std_data2D.shape"
   ]
  },
  {
   "cell_type": "code",
   "execution_count": 34,
   "metadata": {},
   "outputs": [],
   "source": [
    "del data2D"
   ]
  },
  {
   "cell_type": "code",
   "execution_count": 14,
   "metadata": {},
   "outputs": [],
   "source": [
    "# fig, axes = plt.subplots(ncols=9, nrows=5, figsize =(100, 100))\n",
    "# y = mq[\"mq_4_calm_sleep\"].to_numpy(dtype=np.int64)\n",
    "# for i, ax in enumerate(axes.flatten()):\n",
    "#     ax.imshow(std_data2D[i])\n",
    "#     ax.set_title(str(y[i]), fontsize =50)\n",
    "# plt.savefig(\"output.png\")\n",
    "# plt.close(fig)"
   ]
  },
  {
   "cell_type": "code",
   "execution_count": 18,
   "metadata": {},
   "outputs": [],
   "source": [
    "with open(\"../data/std_data2D_108.pkl\", \"wb\") as f:\n",
    "    pickle.dump(std_data2D, f)"
   ]
  },
  {
   "cell_type": "markdown",
   "metadata": {},
   "source": [
    "# Train Utime on dwt channels"
   ]
  },
  {
   "cell_type": "code",
   "execution_count": 13,
   "metadata": {},
   "outputs": [
    {
     "data": {
      "text/plain": [
       "(106, 1920, 260)"
      ]
     },
     "execution_count": 13,
     "metadata": {},
     "output_type": "execute_result"
    }
   ],
   "source": [
    "dwt_data = compatible_data[:, :, :10].reshape((*compatible_data.shape[:2], -1))\n",
    "dwt_data.shape"
   ]
  },
  {
   "cell_type": "code",
   "execution_count": 14,
   "metadata": {},
   "outputs": [
    {
     "data": {
      "text/plain": [
       "(106, 260, 1920)"
      ]
     },
     "execution_count": 14,
     "metadata": {},
     "output_type": "execute_result"
    }
   ],
   "source": [
    "dwt_data = np.swapaxes(dwt_data, 1, 2)\n",
    "dwt_data.shape"
   ]
  },
  {
   "cell_type": "code",
   "execution_count": 15,
   "metadata": {},
   "outputs": [
    {
     "data": {
      "text/plain": [
       "(106, 260, 1920)"
      ]
     },
     "execution_count": 15,
     "metadata": {},
     "output_type": "execute_result"
    }
   ],
   "source": [
    "dwt_data_2d = (\n",
    "    StandardScaler().fit_transform(dwt_data.reshape((106, -1))).reshape(dwt_data.shape)\n",
    ")\n",
    "dwt_data_2d.shape"
   ]
  },
  {
   "cell_type": "code",
   "execution_count": 16,
   "metadata": {},
   "outputs": [],
   "source": [
    "mq.to_csv(\"../data/mq_std_data_106.csv\")"
   ]
  },
  {
   "cell_type": "code",
   "execution_count": 17,
   "metadata": {},
   "outputs": [],
   "source": [
    "X = dwt_data_2d.astype(np.float32)\n",
    "y = mq[\"mq_4_calm_sleep\"].to_numpy(dtype=np.int64)"
   ]
  },
  {
   "cell_type": "markdown",
   "metadata": {},
   "source": [
    "# Train Utime on fft channels"
   ]
  },
  {
   "cell_type": "code",
   "execution_count": 23,
   "metadata": {},
   "outputs": [
    {
     "data": {
      "text/plain": [
       "(106, 416, 1920)"
      ]
     },
     "execution_count": 23,
     "metadata": {},
     "output_type": "execute_result"
    }
   ],
   "source": [
    "fft_data = compatible_data[:, :, 10:26].reshape((*compatible_data.shape[:2], -1))\n",
    "fft_data = np.swapaxes(fft_data, 1, 2)\n",
    "fft_data.shape"
   ]
  },
  {
   "cell_type": "code",
   "execution_count": 24,
   "metadata": {},
   "outputs": [
    {
     "data": {
      "text/plain": [
       "(106, 416, 1920)"
      ]
     },
     "execution_count": 24,
     "metadata": {},
     "output_type": "execute_result"
    }
   ],
   "source": [
    "fft_data_2d = (\n",
    "    StandardScaler().fit_transform(fft_data.reshape((106, -1))).reshape(fft_data.shape)\n",
    ")\n",
    "fft_data_2d.shape"
   ]
  },
  {
   "cell_type": "code",
   "execution_count": 25,
   "metadata": {},
   "outputs": [],
   "source": [
    "X = fft_data_2d.astype(np.float32)\n",
    "y = mq[\"mq_4_calm_sleep\"].to_numpy(dtype=np.int64)"
   ]
  },
  {
   "cell_type": "markdown",
   "metadata": {},
   "source": [
    "# Train Utime on time channels"
   ]
  },
  {
   "cell_type": "code",
   "execution_count": 13,
   "metadata": {},
   "outputs": [
    {
     "data": {
      "text/plain": [
       "(106, 416, 1920)"
      ]
     },
     "execution_count": 13,
     "metadata": {},
     "output_type": "execute_result"
    }
   ],
   "source": [
    "time_data = compatible_data[:, :, 26:].reshape((*compatible_data.shape[:2], -1))\n",
    "time_data = np.swapaxes(time_data, 1, 2)\n",
    "time_data.shape"
   ]
  },
  {
   "cell_type": "code",
   "execution_count": 14,
   "metadata": {},
   "outputs": [
    {
     "data": {
      "text/plain": [
       "(106, 416, 1920)"
      ]
     },
     "execution_count": 14,
     "metadata": {},
     "output_type": "execute_result"
    }
   ],
   "source": [
    "time_data_2d = (\n",
    "    StandardScaler().fit_transform(time_data.reshape((106, -1))).reshape(time_data.shape)\n",
    ")\n",
    "time_data_2d.shape"
   ]
  },
  {
   "cell_type": "code",
   "execution_count": 15,
   "metadata": {},
   "outputs": [],
   "source": [
    "X = time_data_2d.astype(np.float32)\n",
    "y = mq[\"mq_4_calm_sleep\"].to_numpy(dtype=np.int64)"
   ]
  },
  {
   "cell_type": "markdown",
   "metadata": {},
   "source": [
    "# Tune and run utime"
   ]
  },
  {
   "cell_type": "code",
   "execution_count": 19,
   "metadata": {},
   "outputs": [
    {
     "name": "stdout",
     "output_type": "stream",
     "text": [
      "Fitting 5 folds for each of 1 candidates, totalling 5 fits\n",
      "Fitting 5 folds for each of 1 candidates, totalling 5 fits\n",
      "Fitting 5 folds for each of 1 candidates, totalling 5 fits\n",
      "Fitting 5 folds for each of 1 candidates, totalling 5 fits\n",
      "Fitting 5 folds for each of 1 candidates, totalling 5 fits\n",
      "Fitting 5 folds for each of 1 candidates, totalling 5 fits\n",
      "Fitting 5 folds for each of 1 candidates, totalling 5 fits\n",
      "Fitting 5 folds for each of 1 candidates, totalling 5 fits\n",
      "Fitting 5 folds for each of 1 candidates, totalling 5 fits\n",
      "Fitting 5 folds for each of 1 candidates, totalling 5 fits\n",
      "Fitting 5 folds for each of 1 candidates, totalling 5 fits\n",
      "Fitting 5 folds for each of 1 candidates, totalling 5 fits\n",
      "Fitting 5 folds for each of 1 candidates, totalling 5 fits\n",
      "Fitting 5 folds for each of 1 candidates, totalling 5 fits\n",
      "Fitting 5 folds for each of 1 candidates, totalling 5 fits\n",
      "Fitting 5 folds for each of 1 candidates, totalling 5 fits\n",
      "Fitting 5 folds for each of 1 candidates, totalling 5 fits\n",
      "Fitting 5 folds for each of 1 candidates, totalling 5 fits\n",
      "Fitting 5 folds for each of 1 candidates, totalling 5 fits\n",
      "Fitting 5 folds for each of 1 candidates, totalling 5 fits\n"
     ]
    }
   ],
   "source": [
    "from skopt import BayesSearchCV\n",
    "from skopt.space import Real, Categorical, Integer\n",
    "\n",
    "net_params = { 'lr':  Real(1e-4, 1e1, \"log-uniform\"),\n",
    "    'batch_size': Integer(16, 64),\n",
    "    'max_epochs': Integer(10, 100),\n",
    "}\n",
    "\n",
    "random_state = 0\n",
    "random.seed(random_state)\n",
    "np.random.seed(random_state)\n",
    "torch.manual_seed(random_state)\n",
    "torch.use_deterministic_algorithms(True)\n",
    "\n",
    "net = NeuralNetClassifier(\n",
    "    Utime,\n",
    "    # max_epochs=100,\n",
    "    criterion=nn.CrossEntropyLoss,\n",
    "    # lr=1e-4,\n",
    "    # Shuffle training data on each epoch\n",
    "    iterator_train__shuffle=True,\n",
    "    iterator_train__drop_last=True,\n",
    "    # batch_size=64,\n",
    "    optimizer=torch.optim.Adam,\n",
    "    module__in_channels= 416,\n",
    ")\n",
    "\n",
    "opt = BayesSearchCV(\n",
    "            estimator=net,\n",
    "            search_spaces=net_params,\n",
    "            n_iter=20,\n",
    "            scoring=\"f1_weighted\",\n",
    "            cv=StratifiedKFold(n_splits=5, shuffle=True, random_state=0),\n",
    "            random_state=0,\n",
    "            return_train_score=True,\n",
    "            refit=False,\n",
    "            n_jobs=10,\n",
    "            verbose = 1,\n",
    "        ).fit(X, y)"
   ]
  },
  {
   "cell_type": "code",
   "execution_count": 20,
   "metadata": {},
   "outputs": [
    {
     "data": {
      "text/plain": [
       "OrderedDict([('batch_size', 41),\n",
       "             ('lr', 0.00012850889532581343),\n",
       "             ('max_epochs', 43)])"
      ]
     },
     "execution_count": 20,
     "metadata": {},
     "output_type": "execute_result"
    }
   ],
   "source": [
    "opt.best_params_"
   ]
  },
  {
   "cell_type": "code",
   "execution_count": 21,
   "metadata": {},
   "outputs": [
    {
     "data": {
      "text/plain": [
       "array([0.13556493, 0.15193256, 0.46706809, 0.15352311, 0.2541254 ,\n",
       "       0.11828571, 0.11540177, 0.16910953, 0.14083592, 0.12796964,\n",
       "       0.25425286, 0.16749497, 0.27354483, 0.41844469, 0.49502561,\n",
       "       0.52813082, 0.5315277 , 0.83243699, 0.5384819 , 0.61309694])"
      ]
     },
     "execution_count": 21,
     "metadata": {},
     "output_type": "execute_result"
    }
   ],
   "source": [
    "opt.cv_results_[\"mean_train_score\"]"
   ]
  },
  {
   "cell_type": "code",
   "execution_count": 22,
   "metadata": {},
   "outputs": [
    {
     "data": {
      "text/plain": [
       "array([0.14570667, 0.16978865, 0.20696896, 0.17875804, 0.20986753,\n",
       "       0.11852988, 0.16148423, 0.18665908, 0.1646628 , 0.13259886,\n",
       "       0.13797631, 0.17416447, 0.19189747, 0.17122204, 0.35163244,\n",
       "       0.28903717, 0.21936351, 0.25646766, 0.23082616, 0.15810491])"
      ]
     },
     "execution_count": 22,
     "metadata": {},
     "output_type": "execute_result"
    }
   ],
   "source": [
    "opt.cv_results_[\"mean_test_score\"]"
   ]
  },
  {
   "cell_type": "code",
   "execution_count": 23,
   "metadata": {},
   "outputs": [],
   "source": [
    "import pickle\n",
    "with open(\n",
    "    \"../data/eeg/saved/opt_utim_time.pkl\", \"wb\"\n",
    ") as f:\n",
    "    pickle.dump(opt, f)"
   ]
  },
  {
   "cell_type": "markdown",
   "metadata": {},
   "source": [
    "# Plot the results"
   ]
  },
  {
   "cell_type": "code",
   "execution_count": 99,
   "metadata": {},
   "outputs": [],
   "source": [
    "import pickle\n",
    "with open(r\"../data/eeg/saved/opt_utim_dwt.pkl\", \"rb\") as f:\n",
    "    opt_utim_dwt = pickle.load(f)\n",
    "with open(r\"../data/eeg/saved/opt_utim_fft.pkl\", \"rb\") as f:\n",
    "    opt_utim_fft = pickle.load(f)\n",
    "with open(r\"../data/eeg/saved/opt_utim_time.pkl\", \"rb\") as f:\n",
    "    opt_utim_time = pickle.load(f)\n",
    "    "
   ]
  },
  {
   "cell_type": "code",
   "execution_count": 95,
   "metadata": {},
   "outputs": [],
   "source": [
    "step = 5\n",
    "models_CV_scores_train = pd.DataFrame(\n",
    "        columns=[\n",
    "            \"Utime\",\n",
    "            \"fold\",\n",
    "            \"F1 score\",\n",
    "            \"data\",\n",
    "        ],\n",
    "        index=range(3 * step),\n",
    "    )\n",
    "\n",
    "models_CV_scores_test = pd.DataFrame(\n",
    "        columns=[\n",
    "            \"Utime\",\n",
    "            \"fold\",\n",
    "            \"F1 score\",\n",
    "            \"data\",\n",
    "        ],\n",
    "        index=range(3 * step),\n",
    "    )\n",
    "\n",
    "for i, (opt, name) in enumerate(zip([opt_utim_time, opt_utim_fft, opt_utim_dwt], [ \"time\",\"fft\",\"dwt\"])):\n",
    " \n",
    "\n",
    "    # GGGG\n",
    "    test_scores = [\n",
    "        opt.cv_results_[f\"split{j}_test_score\"][opt.best_index_]\n",
    "        for j in range(5)\n",
    "    ]\n",
    "    train_scores = [\n",
    "        opt.cv_results_[f\"split{j}_train_score\"][opt.best_index_]\n",
    "        for j in range(5)\n",
    "    ]\n",
    "    \n",
    "    models_CV_scores_train[\"F1 score\"].iloc[i * step : (i + 1) * step] = train_scores\n",
    "    models_CV_scores_train[\"Utime\"].iloc[i * step : (i + 1) * step] = name\n",
    "    models_CV_scores_train[\"fold\"].iloc[i * step : (i + 1) * step] = np.arange(step)\n",
    "    models_CV_scores_train[\"data\"].iloc[i * step : (i + 1) * step] = \"train\"\n",
    "    \n",
    "    models_CV_scores_test[\"F1 score\"].iloc[i * step : (i + 1) * step] = test_scores\n",
    "    models_CV_scores_test[\"Utime\"].iloc[i * step : (i + 1) * step] = name\n",
    "    models_CV_scores_test[\"fold\"].iloc[i * step : (i + 1) * step] = np.arange(step)\n",
    "    models_CV_scores_test[\"data\"].iloc[i * step : (i + 1) * step] = \"test\"\n",
    "    "
   ]
  },
  {
   "cell_type": "code",
   "execution_count": 96,
   "metadata": {},
   "outputs": [],
   "source": [
    "models_CV_scores = pd.concat((models_CV_scores_test,models_CV_scores_train))"
   ]
  },
  {
   "cell_type": "code",
   "execution_count": 98,
   "metadata": {},
   "outputs": [
    {
     "data": {
      "image/png": "[encoded data removed]",
      "text/plain": [
       "<Figure size 600x200 with 1 Axes>"
      ]
     },
     "metadata": {},
     "output_type": "display_data"
    }
   ],
   "source": [
    "import matplotlib.pyplot as plt\n",
    "import seaborn as sns\n",
    "\n",
    "fig, ax = plt.subplots(sharex=True, figsize=(6, 2))\n",
    "sns.barplot(\n",
    "    data=models_CV_scores,\n",
    "    y=\"Utime\",\n",
    "    x=\"F1 score\",\n",
    "    # order=get_top_X_model_params_combos(\n",
    "    #     X, df, smaller_is_better=smaller_is_better, by=by\n",
    "    # ),\n",
    "    hue=\"data\",\n",
    "    # palette=\"colorblind\",\n",
    ")\n",
    "for i in ax.containers:\n",
    "    ax.bar_label(i, fmt=\"{:.3}\", label_type=\"center\")\n",
    "plt.axvline(0.25, label=\"chance\", ls=\"--\", c=\"green\")\n",
    "plt.legend(\n",
    "    loc=\"upper right\", fancybox=True\n",
    ")\n",
    "\n",
    "plt.savefig(r\"../figures/utime_3best_clf.png\" ,dpi = 400, bbox_inches = \"tight\")"
   ]
  }
 ],
 "metadata": {
  "kernelspec": {
   "display_name": "malm",
   "language": "python",
   "name": "python3"
  },
  "language_info": {
   "codemirror_mode": {
    "name": "ipython",
    "version": 3
   },
   "file_extension": ".py",
   "mimetype": "text/x-python",
   "name": "python",
   "nbconvert_exporter": "python",
   "pygments_lexer": "ipython3",
   "version": "3.10.8"
  }
 },
 "nbformat": 4,
 "nbformat_minor": 2
}
